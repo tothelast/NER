{
 "cells": [
  {
   "cell_type": "code",
   "execution_count": 1,
   "metadata": {},
   "outputs": [],
   "source": [
    "from ner_viterbi import *"
   ]
  },
  {
   "cell_type": "code",
   "execution_count": 2,
   "metadata": {},
   "outputs": [
    {
     "name": "stdout",
     "output_type": "stream",
     "text": [
      "Test Sentence with Tags: [('Obama', 'NNP'), ('visited', 'VBD'), ('Hawaii', 'NNP')]\n",
      "Predicted Labels: ['PER', 'O', 'LOC']\n"
     ]
    }
   ],
   "source": [
    "training_data = [\n",
    "    ([(\"Barack\", \"NNP\"), (\"Obama\", \"NNP\"), (\"was\", \"VBD\"), (\"born\", \"VBN\"), (\"in\", \"IN\"), (\"Hawaii\", \"NNP\"), (\".\", \".\")],\n",
    "     [\"PER\", \"PER\", \"O\", \"O\", \"O\", \"LOC\", \"O\"])\n",
    "]\n",
    "\n",
    "transition_probs, emission_probs, label_priors, vocab = train_hmm_with_pos_tags(training_data, alpha=1.0)\n",
    "test_sentence_with_tags = [(\"Obama\", \"NNP\"), (\"visited\", \"VBD\"), (\"Hawaii\", \"NNP\")]\n",
    "label_set = [\"PER\", \"PER\", \"LOC\", \"O\"]\n",
    "\n",
    "predicted_labels = viterbi_with_pos_tags(test_sentence_with_tags, transition_probs, emission_probs, label_priors, label_set, vocab)\n",
    "\n",
    "print(\"Test Sentence with Tags:\", test_sentence_with_tags)\n",
    "print(\"Predicted Labels:\", predicted_labels)\n"
   ]
  }
 ],
 "metadata": {
  "kernelspec": {
   "display_name": "Python 3",
   "language": "python",
   "name": "python3"
  },
  "language_info": {
   "codemirror_mode": {
    "name": "ipython",
    "version": 3
   },
   "file_extension": ".py",
   "mimetype": "text/x-python",
   "name": "python",
   "nbconvert_exporter": "python",
   "pygments_lexer": "ipython3",
   "version": "3.11.4"
  }
 },
 "nbformat": 4,
 "nbformat_minor": 2
}
