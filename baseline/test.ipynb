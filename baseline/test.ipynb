{
 "cells": [
  {
   "cell_type": "code",
   "execution_count": 1,
   "metadata": {},
   "outputs": [],
   "source": [
    "from ner_viterbi import *"
   ]
  },
  {
   "cell_type": "code",
   "execution_count": 2,
   "metadata": {},
   "outputs": [
    {
     "name": "stdout",
     "output_type": "stream",
     "text": [
      "Predicted Labels: ['PER', 'O', 'LOC']\n"
     ]
    }
   ],
   "source": [
    "# Example Usage\n",
    "tokens = [\n",
    "    [\"Barack\", \"Obama\", \"was\", \"born\", \"in\", \"Hawaii\", \".\"],\n",
    "    [\"Albert\", \"Einstein\", \"developed\", \"the\", \"theory\", \"of\", \"relativity\", \".\"]\n",
    "]\n",
    "pos_tags = [\n",
    "    [\"PROPN\", \"PROPN\", \"AUX\", \"VERB\", \"ADP\", \"PROPN\", \"PUNCT\"],\n",
    "    [\"PROPN\", \"PROPN\", \"VERB\", \"DET\", \"NOUN\", \"ADP\", \"NOUN\", \"PUNCT\"]\n",
    "]\n",
    "ner_tags = [\n",
    "    [\"PER\", \"PER\", \"O\", \"O\", \"O\", \"LOC\", \"O\"],\n",
    "    [\"PER\", \"PER\", \"O\", \"O\", \"O\", \"O\", \"O\", \"O\"]\n",
    "]\n",
    "\n",
    "# Train HMM\n",
    "transition_probs, emission_probs, label_priors, vocab, label_set = train_hmm_with_separate_inputs(tokens, pos_tags, ner_tags)\n",
    "\n",
    "# Test sentence\n",
    "test_tokens = [\"Obama\", \"visited\", \"Hawaii\"]\n",
    "test_pos_tags = [\"PROPN\", \"VERB\", \"PROPN\", \"PROPN\"]\n",
    "sequence_with_tags = list(zip(test_tokens, test_pos_tags))\n",
    "\n",
    "# Perform inference with Viterbi\n",
    "predicted_labels = viterbi_with_tokens_and_pos_tags(sequence_with_tags, transition_probs, emission_probs, label_priors, vocab, label_set)\n",
    "print(\"Predicted Labels:\", predicted_labels)"
   ]
  }
 ],
 "metadata": {
  "kernelspec": {
   "display_name": "Python 3",
   "language": "python",
   "name": "python3"
  },
  "language_info": {
   "codemirror_mode": {
    "name": "ipython",
    "version": 3
   },
   "file_extension": ".py",
   "mimetype": "text/x-python",
   "name": "python",
   "nbconvert_exporter": "python",
   "pygments_lexer": "ipython3",
   "version": "3.11.4"
  }
 },
 "nbformat": 4,
 "nbformat_minor": 2
}
