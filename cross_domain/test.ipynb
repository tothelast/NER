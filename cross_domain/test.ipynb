{
 "cells": [
  {
   "cell_type": "code",
   "execution_count": 1,
   "metadata": {},
   "outputs": [],
   "source": [
    "import sys\n",
    "sys.path.append('../')\n",
    "import json"
   ]
  },
  {
   "cell_type": "code",
   "execution_count": 2,
   "metadata": {},
   "outputs": [],
   "source": [
    "from baseline import ner_viterbi"
   ]
  },
  {
   "cell_type": "code",
   "execution_count": 3,
   "metadata": {},
   "outputs": [],
   "source": [
    "with open('../data/tagged_positive_sentences.json', 'r') as file:\n",
    "    positive_data = json.load(file)\n",
    "    \n",
    "with open('../data/tagged_negative_sentences.json', 'r') as file:\n",
    "    negative_data = json.load(file)\n",
    "\n",
    "with open('../data/tagged_general_sentences.json', 'r') as file:\n",
    "    general_data = json.load(file)\n",
    "\n",
    "with open('../data/tagged_medical_sentences.json', 'r') as file:\n",
    "    medical_data = json.load(file)\n",
    "\n",
    "with open('../data/tagged_legal_sentences.json', 'r') as file:\n",
    "    legal_data = json.load(file)"
   ]
  },
  {
   "cell_type": "code",
   "execution_count": 4,
   "metadata": {},
   "outputs": [],
   "source": [
    "positive_tokens = []\n",
    "positive_pos_tags = []\n",
    "positive_ner_tags = []\n",
    "for sent in positive_data:\n",
    "    positive_tokens.append(sent['tokens'])\n",
    "    positive_pos_tags.append(sent['pos_tags'])\n",
    "    positive_ner_tags.append(sent['ner_tags'])\n",
    "\n",
    "negative_tokens = []\n",
    "negative_pos_tags = []\n",
    "negative_ner_tags = []\n",
    "for sent in negative_data:\n",
    "    negative_tokens.append(sent['tokens'])\n",
    "    negative_pos_tags.append(sent['pos_tags'])\n",
    "    negative_ner_tags.append(sent['ner_tags'])\n",
    "\n",
    "general_tokens = []\n",
    "general_pos_tags = []\n",
    "general_ner_tags = []\n",
    "for sent in general_data:\n",
    "    general_tokens.append(sent['tokens'])\n",
    "    general_pos_tags.append(sent['pos_tags'])\n",
    "    general_ner_tags.append(sent['ner_tags'])\n",
    "\n",
    "legal_tokens = []\n",
    "legal_pos_tags = []\n",
    "legal_ner_tags = []\n",
    "for sent in legal_data:\n",
    "    legal_tokens.append(sent['tokens'])\n",
    "    legal_pos_tags.append(sent['pos_tags'])\n",
    "    legal_ner_tags.append(sent['ner_tags'])\n",
    "\n",
    "medical_tokens = []\n",
    "medical_pos_tags = []\n",
    "medical_ner_tags = []\n",
    "for sent in medical_data:\n",
    "    medical_tokens.append(sent['tokens'])\n",
    "    medical_pos_tags.append(sent['pos_tags'])\n",
    "    medical_ner_tags.append(sent['ner_tags'])"
   ]
  },
  {
   "cell_type": "code",
   "execution_count": 5,
   "metadata": {},
   "outputs": [],
   "source": [
    "# Train HMM\n",
    "transition_probs, emission_probs, label_priors, vocab, label_set = ner_viterbi.train_hmm_with_separate_inputs(positive_tokens, positive_pos_tags, positive_ner_tags)"
   ]
  },
  {
   "cell_type": "code",
   "execution_count": 6,
   "metadata": {},
   "outputs": [],
   "source": [
    "correct = [0,0]\n",
    "matrix = [[0,0],[0,0]]\n",
    "for i in range(len(medical_tokens)):\n",
    "    sequence_with_tags = list(zip(medical_tokens[i], medical_pos_tags[i]))\n",
    "    predicted_labels = ner_viterbi.viterbi_with_tokens_and_pos_tags(sequence_with_tags, transition_probs, emission_probs, label_priors, vocab, label_set)\n",
    "    for j in range(len(predicted_labels)):\n",
    "        correct[predicted_labels[j] == medical_ner_tags[i][j]] += 1\n",
    "        matrix[predicted_labels[j] == 'O'][medical_ner_tags[i][j] == 'O'] += 1"
   ]
  },
  {
   "cell_type": "code",
   "execution_count": 7,
   "metadata": {},
   "outputs": [
    {
     "data": {
      "text/plain": [
       "[41916, 165800]"
      ]
     },
     "execution_count": 7,
     "metadata": {},
     "output_type": "execute_result"
    }
   ],
   "source": [
    "correct"
   ]
  },
  {
   "cell_type": "code",
   "execution_count": 8,
   "metadata": {},
   "outputs": [
    {
     "data": {
      "text/plain": [
       "0.79820524177242"
      ]
     },
     "execution_count": 8,
     "metadata": {},
     "output_type": "execute_result"
    }
   ],
   "source": [
    "correct[1] / sum(correct)"
   ]
  },
  {
   "cell_type": "code",
   "execution_count": 9,
   "metadata": {},
   "outputs": [
    {
     "data": {
      "text/plain": [
       "[[17696, 27678], [5522, 156820]]"
      ]
     },
     "execution_count": 9,
     "metadata": {},
     "output_type": "execute_result"
    }
   ],
   "source": [
    "matrix"
   ]
  },
  {
   "cell_type": "code",
   "execution_count": 10,
   "metadata": {},
   "outputs": [],
   "source": [
    "# Train HMM\n",
    "transition_probs, emission_probs, label_priors, vocab, label_set = ner_viterbi.train_hmm_with_separate_inputs(negative_tokens, negative_pos_tags, negative_ner_tags)"
   ]
  },
  {
   "cell_type": "code",
   "execution_count": 12,
   "metadata": {},
   "outputs": [
    {
     "ename": "ValueError",
     "evalue": "max() arg is an empty sequence",
     "output_type": "error",
     "traceback": [
      "\u001b[0;31m---------------------------------------------------------------------------\u001b[0m",
      "\u001b[0;31mValueError\u001b[0m                                Traceback (most recent call last)",
      "Cell \u001b[0;32mIn[12], line 5\u001b[0m\n\u001b[1;32m      3\u001b[0m \u001b[38;5;28;01mfor\u001b[39;00m i \u001b[38;5;129;01min\u001b[39;00m \u001b[38;5;28mrange\u001b[39m(\u001b[38;5;28mlen\u001b[39m(medical_tokens)):\n\u001b[1;32m      4\u001b[0m     sequence_with_tags \u001b[38;5;241m=\u001b[39m \u001b[38;5;28mlist\u001b[39m(\u001b[38;5;28mzip\u001b[39m(medical_tokens[i], medical_pos_tags[i]))\n\u001b[0;32m----> 5\u001b[0m     predicted_labels \u001b[38;5;241m=\u001b[39m \u001b[43mner_viterbi\u001b[49m\u001b[38;5;241;43m.\u001b[39;49m\u001b[43mviterbi_with_tokens_and_pos_tags\u001b[49m\u001b[43m(\u001b[49m\u001b[43msequence_with_tags\u001b[49m\u001b[43m,\u001b[49m\u001b[43m \u001b[49m\u001b[43mtransition_probs\u001b[49m\u001b[43m,\u001b[49m\u001b[43m \u001b[49m\u001b[43memission_probs\u001b[49m\u001b[43m,\u001b[49m\u001b[43m \u001b[49m\u001b[43mlabel_priors\u001b[49m\u001b[43m,\u001b[49m\u001b[43m \u001b[49m\u001b[43mvocab\u001b[49m\u001b[43m,\u001b[49m\u001b[43m \u001b[49m\u001b[43mlabel_set\u001b[49m\u001b[43m)\u001b[49m\n\u001b[1;32m      6\u001b[0m     \u001b[38;5;28;01mfor\u001b[39;00m j \u001b[38;5;129;01min\u001b[39;00m \u001b[38;5;28mrange\u001b[39m(\u001b[38;5;28mlen\u001b[39m(predicted_labels)):\n\u001b[1;32m      7\u001b[0m         correct[predicted_labels[j] \u001b[38;5;241m==\u001b[39m medical_ner_tags[i][j]] \u001b[38;5;241m+\u001b[39m\u001b[38;5;241m=\u001b[39m \u001b[38;5;241m1\u001b[39m\n",
      "File \u001b[0;32m~/Documents/GitHub/NER/cross_domain/../baseline/ner_viterbi.py:86\u001b[0m, in \u001b[0;36mviterbi_with_tokens_and_pos_tags\u001b[0;34m(sequence_with_tags, transition_probs, emission_probs, label_priors, vocab, label_set)\u001b[0m\n\u001b[1;32m     84\u001b[0m \u001b[38;5;66;03m# Backtrack to find the best sequence\u001b[39;00m\n\u001b[1;32m     85\u001b[0m best_sequence \u001b[38;5;241m=\u001b[39m []\n\u001b[0;32m---> 86\u001b[0m best_label \u001b[38;5;241m=\u001b[39m \u001b[38;5;28;43mmax\u001b[39;49m\u001b[43m(\u001b[49m\u001b[43mdp\u001b[49m\u001b[43m[\u001b[49m\u001b[38;5;241;43m-\u001b[39;49m\u001b[38;5;241;43m1\u001b[39;49m\u001b[43m]\u001b[49m\u001b[43m,\u001b[49m\u001b[43m \u001b[49m\u001b[43mkey\u001b[49m\u001b[38;5;241;43m=\u001b[39;49m\u001b[43mdp\u001b[49m\u001b[43m[\u001b[49m\u001b[38;5;241;43m-\u001b[39;49m\u001b[38;5;241;43m1\u001b[39;49m\u001b[43m]\u001b[49m\u001b[38;5;241;43m.\u001b[39;49m\u001b[43mget\u001b[49m\u001b[43m)\u001b[49m\n\u001b[1;32m     87\u001b[0m best_sequence\u001b[38;5;241m.\u001b[39mappend(best_label)\n\u001b[1;32m     88\u001b[0m \u001b[38;5;28;01mfor\u001b[39;00m t \u001b[38;5;129;01min\u001b[39;00m \u001b[38;5;28mrange\u001b[39m(n\u001b[38;5;241m-\u001b[39m\u001b[38;5;241m1\u001b[39m, \u001b[38;5;241m0\u001b[39m, \u001b[38;5;241m-\u001b[39m\u001b[38;5;241m1\u001b[39m):\n",
      "\u001b[0;31mValueError\u001b[0m: max() arg is an empty sequence"
     ]
    }
   ],
   "source": [
    "correct = [0,0]\n",
    "matrix = [[0,0],[0,0]]\n",
    "for i in range(len(medical_tokens)):\n",
    "    sequence_with_tags = list(zip(medical_tokens[i], medical_pos_tags[i]))\n",
    "    predicted_labels = ner_viterbi.viterbi_with_tokens_and_pos_tags(sequence_with_tags, transition_probs, emission_probs, label_priors, vocab, label_set)\n",
    "    for j in range(len(predicted_labels)):\n",
    "        correct[predicted_labels[j] == medical_ner_tags[i][j]] += 1\n",
    "        matrix[predicted_labels[j] == 'O'][medical_ner_tags[i][j] == 'O'] += 1"
   ]
  },
  {
   "cell_type": "code",
   "execution_count": null,
   "metadata": {},
   "outputs": [],
   "source": [
    "correct[1] / sum(correct)"
   ]
  },
  {
   "cell_type": "code",
   "execution_count": null,
   "metadata": {},
   "outputs": [],
   "source": [
    "matrix"
   ]
  },
  {
   "cell_type": "code",
   "execution_count": null,
   "metadata": {},
   "outputs": [],
   "source": [
    "# Train HMM\n",
    "transition_probs, emission_probs, label_priors, vocab, label_set = ner_viterbi.train_hmm_with_separate_inputs(general_tokens, general_pos_tags, general_ner_tags)"
   ]
  },
  {
   "cell_type": "code",
   "execution_count": null,
   "metadata": {},
   "outputs": [],
   "source": [
    "correct = [0,0]\n",
    "matrix = [[0,0],[0,0]]\n",
    "for i in range(len(medical_tokens)):\n",
    "    sequence_with_tags = list(zip(medical_tokens[i], medical_pos_tags[i]))\n",
    "    predicted_labels = ner_viterbi.viterbi_with_tokens_and_pos_tags(sequence_with_tags, transition_probs, emission_probs, label_priors, vocab, label_set)\n",
    "    for j in range(len(predicted_labels)):\n",
    "        correct[predicted_labels[j] == medical_ner_tags[i][j]] += 1\n",
    "        matrix[predicted_labels[j] == 'O'][medical_ner_tags[i][j] == 'O'] += 1"
   ]
  },
  {
   "cell_type": "code",
   "execution_count": null,
   "metadata": {},
   "outputs": [],
   "source": [
    "correct[1] / sum(correct)"
   ]
  },
  {
   "cell_type": "code",
   "execution_count": null,
   "metadata": {},
   "outputs": [],
   "source": [
    "matrix"
   ]
  }
 ],
 "metadata": {
  "kernelspec": {
   "display_name": "Python 3",
   "language": "python",
   "name": "python3"
  },
  "language_info": {
   "codemirror_mode": {
    "name": "ipython",
    "version": 3
   },
   "file_extension": ".py",
   "mimetype": "text/x-python",
   "name": "python",
   "nbconvert_exporter": "python",
   "pygments_lexer": "ipython3",
   "version": "3.11.4"
  }
 },
 "nbformat": 4,
 "nbformat_minor": 2
}
